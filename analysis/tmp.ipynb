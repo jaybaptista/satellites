{
 "cells": [
  {
   "cell_type": "code",
   "execution_count": 1,
   "metadata": {},
   "outputs": [],
   "source": [
    "import pandas as pd\n",
    "import matplotlib.pyplot as plt\n",
    "from astropy.coordinates import SkyCoord\n",
    "import numpy as np"
   ]
  },
  {
   "cell_type": "code",
   "execution_count": 2,
   "metadata": {},
   "outputs": [],
   "source": [
    "data = pd.read_csv(\"probs.csv\")"
   ]
  },
  {
   "cell_type": "code",
   "execution_count": 3,
   "metadata": {},
   "outputs": [
    {
     "data": {
      "text/html": [
       "<div>\n",
       "<style scoped>\n",
       "    .dataframe tbody tr th:only-of-type {\n",
       "        vertical-align: middle;\n",
       "    }\n",
       "\n",
       "    .dataframe tbody tr th {\n",
       "        vertical-align: top;\n",
       "    }\n",
       "\n",
       "    .dataframe thead th {\n",
       "        text-align: right;\n",
       "    }\n",
       "</style>\n",
       "<table border=\"1\" class=\"dataframe\">\n",
       "  <thead>\n",
       "    <tr style=\"text-align: right;\">\n",
       "      <th></th>\n",
       "      <th>Unnamed: 0</th>\n",
       "      <th>galaxy</th>\n",
       "      <th>dual.metal.cont</th>\n",
       "      <th>dual.cont</th>\n",
       "      <th>b</th>\n",
       "      <th>l</th>\n",
       "    </tr>\n",
       "  </thead>\n",
       "  <tbody>\n",
       "    <tr>\n",
       "      <th>0</th>\n",
       "      <td>0</td>\n",
       "      <td>draco</td>\n",
       "      <td>31</td>\n",
       "      <td>126</td>\n",
       "      <td>34d43m18.0875s</td>\n",
       "      <td>86d22m04.1964s</td>\n",
       "    </tr>\n",
       "    <tr>\n",
       "      <th>1</th>\n",
       "      <td>1</td>\n",
       "      <td>draco_a</td>\n",
       "      <td>1</td>\n",
       "      <td>2</td>\n",
       "      <td>4d43m18.1512s</td>\n",
       "      <td>86d22m04.2002s</td>\n",
       "    </tr>\n",
       "    <tr>\n",
       "      <th>2</th>\n",
       "      <td>2</td>\n",
       "      <td>draco_b</td>\n",
       "      <td>24</td>\n",
       "      <td>110</td>\n",
       "      <td>-25d16m41.8488s</td>\n",
       "      <td>86d22m04.2002s</td>\n",
       "    </tr>\n",
       "    <tr>\n",
       "      <th>3</th>\n",
       "      <td>3</td>\n",
       "      <td>draco_c</td>\n",
       "      <td>7</td>\n",
       "      <td>37</td>\n",
       "      <td>-55d16m41.8488s</td>\n",
       "      <td>86d22m04.2002s</td>\n",
       "    </tr>\n",
       "  </tbody>\n",
       "</table>\n",
       "</div>"
      ],
      "text/plain": [
       "   Unnamed: 0   galaxy  dual.metal.cont  dual.cont                b  \\\n",
       "0           0    draco               31        126   34d43m18.0875s   \n",
       "1           1  draco_a                1          2    4d43m18.1512s   \n",
       "2           2  draco_b               24        110  -25d16m41.8488s   \n",
       "3           3  draco_c                7         37  -55d16m41.8488s   \n",
       "\n",
       "                l  \n",
       "0  86d22m04.1964s  \n",
       "1  86d22m04.2002s  \n",
       "2  86d22m04.2002s  \n",
       "3  86d22m04.2002s  "
      ]
     },
     "execution_count": 3,
     "metadata": {},
     "output_type": "execute_result"
    }
   ],
   "source": [
    "data"
   ]
  },
  {
   "cell_type": "code",
   "execution_count": 6,
   "metadata": {},
   "outputs": [],
   "source": [
    "lat = [SkyCoord(l=data[\"l\"][i], b=data[\"b\"][i], frame='galactic').galactic.b.value for i in np.arange(len(data))]"
   ]
  },
  {
   "cell_type": "code",
   "execution_count": 8,
   "metadata": {},
   "outputs": [
    {
     "data": {
      "image/png": "[encoded data removed]",
      "text/plain": [
       "<Figure size 432x288 with 1 Axes>"
      ]
     },
     "metadata": {
      "needs_background": "light"
     },
     "output_type": "display_data"
    }
   ],
   "source": [
    "fig, ax = plt.subplots()\n",
    "ax.plot(lat, data[\"dual.metal.cont\"], c=\"b\")\n",
    "ax.plot(lat, data[\"dual.cont\"], c=\"r\")\n",
    "plt.show()\n"
   ]
  },
  {
   "cell_type": "code",
   "execution_count": null,
   "metadata": {},
   "outputs": [],
   "source": []
  }
 ],
 "metadata": {
  "kernelspec": {
   "display_name": "Python 3.8.5 ('research')",
   "language": "python",
   "name": "python3"
  },
  "language_info": {
   "codemirror_mode": {
    "name": "ipython",
    "version": 3
   },
   "file_extension": ".py",
   "mimetype": "text/x-python",
   "name": "python",
   "nbconvert_exporter": "python",
   "pygments_lexer": "ipython3",
   "version": "3.8.5"
  },
  "orig_nbformat": 4,
  "vscode": {
   "interpreter": {
    "hash": "b6eabc5adf13322712f4bc2b773e47522ecb2bb63114550f2882b09f6d71e273"
   }
  }
 },
 "nbformat": 4,
 "nbformat_minor": 2
}
