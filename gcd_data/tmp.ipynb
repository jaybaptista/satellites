{
 "cells": [
  {
   "cell_type": "code",
   "execution_count": 6,
   "metadata": {},
   "outputs": [],
   "source": [
    "import pandas as pd\n",
    "from astropy.io.misc.hdf5 import read_table_hdf5\n",
    "import matplotlib.pyplot as plt\n",
    "import numpy as np"
   ]
  },
  {
   "cell_type": "code",
   "execution_count": 7,
   "metadata": {},
   "outputs": [],
   "source": [
    "data = read_table_hdf5(\"formatted_gcd_dwarf.h5\")"
   ]
  },
  {
   "cell_type": "code",
   "execution_count": 12,
   "metadata": {},
   "outputs": [
    {
     "data": {
      "image/png": "[encoded data removed]",
      "text/plain": [
       "<Figure size 432x288 with 1 Axes>"
      ]
     },
     "metadata": {
      "needs_background": "light"
     },
     "output_type": "display_data"
    }
   ],
   "source": [
    "fig, ax = plt.subplots()\n",
    "ax.hist(data[\"vz\"], bins=20)\n",
    "plt.show()"
   ]
  },
  {
   "cell_type": "code",
   "execution_count": 13,
   "metadata": {},
   "outputs": [
    {
     "data": {
      "text/plain": [
       "11.39084980885783"
      ]
     },
     "execution_count": 13,
     "metadata": {},
     "output_type": "execute_result"
    }
   ],
   "source": [
    "np.std(data[\"vz\"])"
   ]
  },
  {
   "cell_type": "code",
   "execution_count": 23,
   "metadata": {},
   "outputs": [],
   "source": [
    "from astropy.coordinates import SkyCoord\n",
    "import astropy.units as u"
   ]
  },
  {
   "cell_type": "code",
   "execution_count": 15,
   "metadata": {},
   "outputs": [],
   "source": [
    "draco_coord = SkyCoord(\"17h 20m 12.4s +57° 54′ 55″\")"
   ]
  },
  {
   "cell_type": "code",
   "execution_count": 29,
   "metadata": {},
   "outputs": [
    {
     "data": {
      "text/plain": [
       "<SkyCoord (ICRS): (ra, dec) in deg\n",
       "    (260.05166667, 57.91527778)>"
      ]
     },
     "execution_count": 29,
     "metadata": {},
     "output_type": "execute_result"
    }
   ],
   "source": [
    "draco_coord"
   ]
  },
  {
   "cell_type": "code",
   "execution_count": 18,
   "metadata": {},
   "outputs": [
    {
     "data": {
      "text/plain": [
       "<SkyCoord (Galactic): (l, b) in deg\n",
       "    (86.36783338, 34.72170867)>"
      ]
     },
     "execution_count": 18,
     "metadata": {},
     "output_type": "execute_result"
    }
   ],
   "source": [
    "draco_coord.galactic"
   ]
  },
  {
   "cell_type": "code",
   "execution_count": 37,
   "metadata": {},
   "outputs": [
    {
     "name": "stdout",
     "output_type": "stream",
     "text": [
      "1\n",
      "<SkyCoord (Galactic): (l, b) in deg\n",
      "    (86.36783338, 4.72170867)>\n",
      "<SkyCoord (ICRS): (ra, dec) in deg\n",
      "    (309.02856507, 48.58511707)>\n",
      "2\n",
      "<SkyCoord (Galactic): (l, b) in deg\n",
      "    (86.36783338, -25.27829133)>\n",
      "<SkyCoord (ICRS): (ra, dec) in deg\n",
      "    (335.71884019, 26.85083641)>\n",
      "3\n",
      "<SkyCoord (Galactic): (l, b) in deg\n",
      "    (86.36783338, -55.27829133)>\n",
      "<SkyCoord (ICRS): (ra, dec) in deg\n",
      "    (353.01332986, 1.85527209)>\n"
     ]
    }
   ],
   "source": [
    "k = 1\n",
    "\n",
    "for k in range(1, 4):\n",
    "  print(k)\n",
    "  draco_coord_k = SkyCoord((86.36783338)*u.deg, (34.72170867 - (k*30))*u.deg, frame=\"galactic\")\n",
    "  print(draco_coord_k)\n",
    "  print(draco_coord_k.icrs)"
   ]
  }
 ],
 "metadata": {
  "kernelspec": {
   "display_name": "Python 3.8.5 ('research')",
   "language": "python",
   "name": "python3"
  },
  "language_info": {
   "codemirror_mode": {
    "name": "ipython",
    "version": 3
   },
   "file_extension": ".py",
   "mimetype": "text/x-python",
   "name": "python",
   "nbconvert_exporter": "python",
   "pygments_lexer": "ipython3",
   "version": "3.8.5"
  },
  "orig_nbformat": 4,
  "vscode": {
   "interpreter": {
    "hash": "b6eabc5adf13322712f4bc2b773e47522ecb2bb63114550f2882b09f6d71e273"
   }
  }
 },
 "nbformat": 4,
 "nbformat_minor": 2
}
